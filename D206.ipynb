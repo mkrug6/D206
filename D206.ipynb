{
 "cells": [
  {
   "cell_type": "markdown",
   "id": "f0782c02",
   "metadata": {},
   "source": [
    "## Part 0: Environment Setup\n",
    "\n",
    "Loading the Churn CSV into a data frame.\n",
    "I will be loading and using the following modules for this project:"
   ]
  },
  {
   "cell_type": "code",
   "execution_count": 1,
   "id": "8f666d1e",
   "metadata": {},
   "outputs": [],
   "source": [
    "import numpy as np\n",
    "import pandas as pd\n",
    "from sklearn.decomposition import PCA\n",
    "import matplotlib.pyplot as plt\n",
    "\n",
    "df = pd.read_csv('churn_raw_data.csv', index_col=0)"
   ]
  },
  {
   "cell_type": "markdown",
   "id": "5b747dc2",
   "metadata": {},
   "source": [
    "## Part I: Research Question\n",
    "\n",
    "### A. Description of Question\n",
    "\n",
    "In the telecommunications industry, customers can choose from multiple service providers and actively switch from one provider to another. Customer “churn” is defined as the percentage of customers who stopped using a provider’s product or service during a certain time frame. In this highly competitive market, some telecommunications industries can experience average annual churn rates as high as 25 percent. Given that it costs 10 times more to acquire a new customer than to retain an existing one, customer retention has now become even more important than customer acquisition. For many providers, retaining highly profitable customers is the number one business goal. To reduce customer churn, telecommunications companies need to predict which customers are at high risk of churn. You are an analyst on a team of analysts in a popular telecommunications company, which serves customers in all regions of the United States. You have been asked to clean the raw data set in preparation to explore the data, identify trends, and compare key metrics.\n",
    "\n",
    "The question I will be posing: Given the cost in acquiring new customers versus maintaining current customers, which factors tend to lead to customer churn, or a higher churn rate? Some factors may include:\n",
    "\n",
    "* service outages\n",
    "* service costs too much\n",
    "* not enough use of service\n",
    "* too many technical problems\n",
    "* low quality tech support\n",
    "* not technically inclined enough paired with low quality technical support\n",
    "\n",
    "\n",
    " \n"
   ]
  },
  {
   "cell_type": "markdown",
   "id": "4ef277cf",
   "metadata": {},
   "source": [
    "### B. Describe Variables\n",
    "\n",
    "In this section, I will review the types of data present in the dataset, review statistics on the dataset, and describe the variables in the dataset.\n",
    "\n"
   ]
  },
  {
   "cell_type": "markdown",
   "id": "04e2b7db",
   "metadata": {},
   "source": [
    "Summary Statistics of the dataset with unneccessary variables:"
   ]
  },
  {
   "cell_type": "code",
   "execution_count": 2,
   "id": "8d443434",
   "metadata": {},
   "outputs": [
    {
     "data": {
      "text/html": [
       "<div>\n",
       "<style scoped>\n",
       "    .dataframe tbody tr th:only-of-type {\n",
       "        vertical-align: middle;\n",
       "    }\n",
       "\n",
       "    .dataframe tbody tr th {\n",
       "        vertical-align: top;\n",
       "    }\n",
       "\n",
       "    .dataframe thead th {\n",
       "        text-align: right;\n",
       "    }\n",
       "</style>\n",
       "<table border=\"1\" class=\"dataframe\">\n",
       "  <thead>\n",
       "    <tr style=\"text-align: right;\">\n",
       "      <th></th>\n",
       "      <th>Population</th>\n",
       "      <th>Children</th>\n",
       "      <th>Age</th>\n",
       "      <th>Income</th>\n",
       "      <th>Outage_sec_perweek</th>\n",
       "      <th>Email</th>\n",
       "      <th>Contacts</th>\n",
       "      <th>Yearly_equip_failure</th>\n",
       "      <th>Tenure</th>\n",
       "      <th>MonthlyCharge</th>\n",
       "      <th>Bandwidth_GB_Year</th>\n",
       "    </tr>\n",
       "  </thead>\n",
       "  <tbody>\n",
       "    <tr>\n",
       "      <th>count</th>\n",
       "      <td>10000.000000</td>\n",
       "      <td>7505.000000</td>\n",
       "      <td>7525.000000</td>\n",
       "      <td>7510.000000</td>\n",
       "      <td>10000.000000</td>\n",
       "      <td>10000.000000</td>\n",
       "      <td>10000.000000</td>\n",
       "      <td>10000.000000</td>\n",
       "      <td>9069.000000</td>\n",
       "      <td>10000.000000</td>\n",
       "      <td>8979.000000</td>\n",
       "    </tr>\n",
       "    <tr>\n",
       "      <th>mean</th>\n",
       "      <td>9756.562400</td>\n",
       "      <td>2.095936</td>\n",
       "      <td>53.275748</td>\n",
       "      <td>39936.762226</td>\n",
       "      <td>11.452955</td>\n",
       "      <td>12.016000</td>\n",
       "      <td>0.994200</td>\n",
       "      <td>0.398000</td>\n",
       "      <td>34.498858</td>\n",
       "      <td>174.076305</td>\n",
       "      <td>3398.842752</td>\n",
       "    </tr>\n",
       "    <tr>\n",
       "      <th>std</th>\n",
       "      <td>14432.698671</td>\n",
       "      <td>2.154758</td>\n",
       "      <td>20.753928</td>\n",
       "      <td>28358.469482</td>\n",
       "      <td>7.025921</td>\n",
       "      <td>3.025898</td>\n",
       "      <td>0.988466</td>\n",
       "      <td>0.635953</td>\n",
       "      <td>26.438904</td>\n",
       "      <td>43.335473</td>\n",
       "      <td>2187.396807</td>\n",
       "    </tr>\n",
       "    <tr>\n",
       "      <th>min</th>\n",
       "      <td>0.000000</td>\n",
       "      <td>0.000000</td>\n",
       "      <td>18.000000</td>\n",
       "      <td>740.660000</td>\n",
       "      <td>-1.348571</td>\n",
       "      <td>1.000000</td>\n",
       "      <td>0.000000</td>\n",
       "      <td>0.000000</td>\n",
       "      <td>1.000259</td>\n",
       "      <td>77.505230</td>\n",
       "      <td>155.506715</td>\n",
       "    </tr>\n",
       "    <tr>\n",
       "      <th>25%</th>\n",
       "      <td>738.000000</td>\n",
       "      <td>0.000000</td>\n",
       "      <td>35.000000</td>\n",
       "      <td>19285.522500</td>\n",
       "      <td>8.054362</td>\n",
       "      <td>10.000000</td>\n",
       "      <td>0.000000</td>\n",
       "      <td>0.000000</td>\n",
       "      <td>7.890442</td>\n",
       "      <td>141.071078</td>\n",
       "      <td>1234.110529</td>\n",
       "    </tr>\n",
       "    <tr>\n",
       "      <th>50%</th>\n",
       "      <td>2910.500000</td>\n",
       "      <td>1.000000</td>\n",
       "      <td>53.000000</td>\n",
       "      <td>33186.785000</td>\n",
       "      <td>10.202896</td>\n",
       "      <td>12.000000</td>\n",
       "      <td>1.000000</td>\n",
       "      <td>0.000000</td>\n",
       "      <td>36.196030</td>\n",
       "      <td>169.915400</td>\n",
       "      <td>3382.424000</td>\n",
       "    </tr>\n",
       "    <tr>\n",
       "      <th>75%</th>\n",
       "      <td>13168.000000</td>\n",
       "      <td>3.000000</td>\n",
       "      <td>71.000000</td>\n",
       "      <td>53472.395000</td>\n",
       "      <td>12.487644</td>\n",
       "      <td>14.000000</td>\n",
       "      <td>2.000000</td>\n",
       "      <td>1.000000</td>\n",
       "      <td>61.426670</td>\n",
       "      <td>203.777441</td>\n",
       "      <td>5587.096500</td>\n",
       "    </tr>\n",
       "    <tr>\n",
       "      <th>max</th>\n",
       "      <td>111850.000000</td>\n",
       "      <td>10.000000</td>\n",
       "      <td>89.000000</td>\n",
       "      <td>258900.700000</td>\n",
       "      <td>47.049280</td>\n",
       "      <td>23.000000</td>\n",
       "      <td>7.000000</td>\n",
       "      <td>6.000000</td>\n",
       "      <td>71.999280</td>\n",
       "      <td>315.878600</td>\n",
       "      <td>7158.982000</td>\n",
       "    </tr>\n",
       "  </tbody>\n",
       "</table>\n",
       "</div>"
      ],
      "text/plain": [
       "          Population     Children          Age         Income  \\\n",
       "count   10000.000000  7505.000000  7525.000000    7510.000000   \n",
       "mean     9756.562400     2.095936    53.275748   39936.762226   \n",
       "std     14432.698671     2.154758    20.753928   28358.469482   \n",
       "min         0.000000     0.000000    18.000000     740.660000   \n",
       "25%       738.000000     0.000000    35.000000   19285.522500   \n",
       "50%      2910.500000     1.000000    53.000000   33186.785000   \n",
       "75%     13168.000000     3.000000    71.000000   53472.395000   \n",
       "max    111850.000000    10.000000    89.000000  258900.700000   \n",
       "\n",
       "       Outage_sec_perweek         Email      Contacts  Yearly_equip_failure  \\\n",
       "count        10000.000000  10000.000000  10000.000000          10000.000000   \n",
       "mean            11.452955     12.016000      0.994200              0.398000   \n",
       "std              7.025921      3.025898      0.988466              0.635953   \n",
       "min             -1.348571      1.000000      0.000000              0.000000   \n",
       "25%              8.054362     10.000000      0.000000              0.000000   \n",
       "50%             10.202896     12.000000      1.000000              0.000000   \n",
       "75%             12.487644     14.000000      2.000000              1.000000   \n",
       "max             47.049280     23.000000      7.000000              6.000000   \n",
       "\n",
       "            Tenure  MonthlyCharge  Bandwidth_GB_Year  \n",
       "count  9069.000000   10000.000000        8979.000000  \n",
       "mean     34.498858     174.076305        3398.842752  \n",
       "std      26.438904      43.335473        2187.396807  \n",
       "min       1.000259      77.505230         155.506715  \n",
       "25%       7.890442     141.071078        1234.110529  \n",
       "50%      36.196030     169.915400        3382.424000  \n",
       "75%      61.426670     203.777441        5587.096500  \n",
       "max      71.999280     315.878600        7158.982000  "
      ]
     },
     "execution_count": 2,
     "metadata": {},
     "output_type": "execute_result"
    }
   ],
   "source": [
    "df = df.drop(columns=['Interaction', 'CaseOrder',  'Zip', 'Lat', 'Lng', 'Techie', 'Phone', 'TechSupport', 'item1', 'item2', 'item3', 'item4', 'item5', 'item6', 'item7', 'item8'])\n",
    "df.describe()"
   ]
  },
  {
   "cell_type": "markdown",
   "id": "b1feffb1",
   "metadata": {},
   "source": [
    "Shape of the dataset:"
   ]
  },
  {
   "cell_type": "code",
   "execution_count": 3,
   "id": "8a96662c",
   "metadata": {},
   "outputs": [
    {
     "data": {
      "text/plain": [
       "(10000, 35)"
      ]
     },
     "execution_count": 3,
     "metadata": {},
     "output_type": "execute_result"
    }
   ],
   "source": [
    "df.shape"
   ]
  },
  {
   "cell_type": "markdown",
   "id": "8e568a06",
   "metadata": {},
   "source": [
    "Object types will be categorical variables. float64 and int64 will be numerical variables.\n",
    "\n",
    "Review of the types of data in the dataset:"
   ]
  },
  {
   "cell_type": "code",
   "execution_count": 4,
   "id": "e0ff2b0c",
   "metadata": {},
   "outputs": [
    {
     "data": {
      "text/plain": [
       "Customer_id              object\n",
       "City                     object\n",
       "State                    object\n",
       "County                   object\n",
       "Population                int64\n",
       "Area                     object\n",
       "Timezone                 object\n",
       "Job                      object\n",
       "Children                float64\n",
       "Age                     float64\n",
       "Education                object\n",
       "Employment               object\n",
       "Income                  float64\n",
       "Marital                  object\n",
       "Gender                   object\n",
       "Churn                    object\n",
       "Outage_sec_perweek      float64\n",
       "Email                     int64\n",
       "Contacts                  int64\n",
       "Yearly_equip_failure      int64\n",
       "Contract                 object\n",
       "Port_modem               object\n",
       "Tablet                   object\n",
       "InternetService          object\n",
       "Multiple                 object\n",
       "OnlineSecurity           object\n",
       "OnlineBackup             object\n",
       "DeviceProtection         object\n",
       "StreamingTV              object\n",
       "StreamingMovies          object\n",
       "PaperlessBilling         object\n",
       "PaymentMethod            object\n",
       "Tenure                  float64\n",
       "MonthlyCharge           float64\n",
       "Bandwidth_GB_Year       float64\n",
       "dtype: object"
      ]
     },
     "execution_count": 4,
     "metadata": {},
     "output_type": "execute_result"
    }
   ],
   "source": [
    "df.dtypes"
   ]
  },
  {
   "cell_type": "markdown",
   "id": "73998876",
   "metadata": {},
   "source": [
    "# Part II"
   ]
  },
  {
   "cell_type": "markdown",
   "id": "4e709ddb",
   "metadata": {},
   "source": [
    "## C. Cleaning Plan\n",
    "\n",
    "In this section, I will explain the plan for cleaning the data. \n",
    "\n",
    "My approach will be as follows:\n",
    "* Identify null values\n",
    "* Identify NA or zero values where that input does not make sense\n",
    "* Identify areas with missing values\n",
    "* Identify method to finding typographical errors\n",
    "\n",
    "For all of the above, I will identify an appropriate approach to managing unclean data.\n",
    "\n",
    "Relevant techniques and specific steps to identify anomalies in the data set will be expressed in the below python code."
   ]
  },
  {
   "cell_type": "markdown",
   "id": "db95cc82",
   "metadata": {},
   "source": [
    "#### Finding nulls and null values"
   ]
  },
  {
   "cell_type": "code",
   "execution_count": 5,
   "id": "75f11b90",
   "metadata": {},
   "outputs": [
    {
     "data": {
      "text/html": [
       "<div>\n",
       "<style scoped>\n",
       "    .dataframe tbody tr th:only-of-type {\n",
       "        vertical-align: middle;\n",
       "    }\n",
       "\n",
       "    .dataframe tbody tr th {\n",
       "        vertical-align: top;\n",
       "    }\n",
       "\n",
       "    .dataframe thead th {\n",
       "        text-align: right;\n",
       "    }\n",
       "</style>\n",
       "<table border=\"1\" class=\"dataframe\">\n",
       "  <thead>\n",
       "    <tr style=\"text-align: right;\">\n",
       "      <th></th>\n",
       "      <th>Customer_id</th>\n",
       "      <th>City</th>\n",
       "      <th>State</th>\n",
       "      <th>County</th>\n",
       "      <th>Population</th>\n",
       "      <th>Area</th>\n",
       "      <th>Timezone</th>\n",
       "      <th>Job</th>\n",
       "      <th>Children</th>\n",
       "      <th>Age</th>\n",
       "      <th>...</th>\n",
       "      <th>OnlineSecurity</th>\n",
       "      <th>OnlineBackup</th>\n",
       "      <th>DeviceProtection</th>\n",
       "      <th>StreamingTV</th>\n",
       "      <th>StreamingMovies</th>\n",
       "      <th>PaperlessBilling</th>\n",
       "      <th>PaymentMethod</th>\n",
       "      <th>Tenure</th>\n",
       "      <th>MonthlyCharge</th>\n",
       "      <th>Bandwidth_GB_Year</th>\n",
       "    </tr>\n",
       "  </thead>\n",
       "  <tbody>\n",
       "    <tr>\n",
       "      <th>1</th>\n",
       "      <td>False</td>\n",
       "      <td>False</td>\n",
       "      <td>False</td>\n",
       "      <td>False</td>\n",
       "      <td>False</td>\n",
       "      <td>False</td>\n",
       "      <td>False</td>\n",
       "      <td>False</td>\n",
       "      <td>True</td>\n",
       "      <td>False</td>\n",
       "      <td>...</td>\n",
       "      <td>False</td>\n",
       "      <td>False</td>\n",
       "      <td>False</td>\n",
       "      <td>False</td>\n",
       "      <td>False</td>\n",
       "      <td>False</td>\n",
       "      <td>False</td>\n",
       "      <td>False</td>\n",
       "      <td>False</td>\n",
       "      <td>False</td>\n",
       "    </tr>\n",
       "    <tr>\n",
       "      <th>2</th>\n",
       "      <td>False</td>\n",
       "      <td>False</td>\n",
       "      <td>False</td>\n",
       "      <td>False</td>\n",
       "      <td>False</td>\n",
       "      <td>False</td>\n",
       "      <td>False</td>\n",
       "      <td>False</td>\n",
       "      <td>False</td>\n",
       "      <td>False</td>\n",
       "      <td>...</td>\n",
       "      <td>False</td>\n",
       "      <td>False</td>\n",
       "      <td>False</td>\n",
       "      <td>False</td>\n",
       "      <td>False</td>\n",
       "      <td>False</td>\n",
       "      <td>False</td>\n",
       "      <td>False</td>\n",
       "      <td>False</td>\n",
       "      <td>False</td>\n",
       "    </tr>\n",
       "    <tr>\n",
       "      <th>3</th>\n",
       "      <td>False</td>\n",
       "      <td>False</td>\n",
       "      <td>False</td>\n",
       "      <td>False</td>\n",
       "      <td>False</td>\n",
       "      <td>False</td>\n",
       "      <td>False</td>\n",
       "      <td>False</td>\n",
       "      <td>False</td>\n",
       "      <td>False</td>\n",
       "      <td>...</td>\n",
       "      <td>False</td>\n",
       "      <td>False</td>\n",
       "      <td>False</td>\n",
       "      <td>False</td>\n",
       "      <td>False</td>\n",
       "      <td>False</td>\n",
       "      <td>False</td>\n",
       "      <td>False</td>\n",
       "      <td>False</td>\n",
       "      <td>False</td>\n",
       "    </tr>\n",
       "    <tr>\n",
       "      <th>4</th>\n",
       "      <td>False</td>\n",
       "      <td>False</td>\n",
       "      <td>False</td>\n",
       "      <td>False</td>\n",
       "      <td>False</td>\n",
       "      <td>False</td>\n",
       "      <td>False</td>\n",
       "      <td>False</td>\n",
       "      <td>False</td>\n",
       "      <td>False</td>\n",
       "      <td>...</td>\n",
       "      <td>False</td>\n",
       "      <td>False</td>\n",
       "      <td>False</td>\n",
       "      <td>False</td>\n",
       "      <td>False</td>\n",
       "      <td>False</td>\n",
       "      <td>False</td>\n",
       "      <td>False</td>\n",
       "      <td>False</td>\n",
       "      <td>False</td>\n",
       "    </tr>\n",
       "    <tr>\n",
       "      <th>5</th>\n",
       "      <td>False</td>\n",
       "      <td>False</td>\n",
       "      <td>False</td>\n",
       "      <td>False</td>\n",
       "      <td>False</td>\n",
       "      <td>False</td>\n",
       "      <td>False</td>\n",
       "      <td>False</td>\n",
       "      <td>False</td>\n",
       "      <td>False</td>\n",
       "      <td>...</td>\n",
       "      <td>False</td>\n",
       "      <td>False</td>\n",
       "      <td>False</td>\n",
       "      <td>False</td>\n",
       "      <td>False</td>\n",
       "      <td>False</td>\n",
       "      <td>False</td>\n",
       "      <td>False</td>\n",
       "      <td>False</td>\n",
       "      <td>False</td>\n",
       "    </tr>\n",
       "    <tr>\n",
       "      <th>...</th>\n",
       "      <td>...</td>\n",
       "      <td>...</td>\n",
       "      <td>...</td>\n",
       "      <td>...</td>\n",
       "      <td>...</td>\n",
       "      <td>...</td>\n",
       "      <td>...</td>\n",
       "      <td>...</td>\n",
       "      <td>...</td>\n",
       "      <td>...</td>\n",
       "      <td>...</td>\n",
       "      <td>...</td>\n",
       "      <td>...</td>\n",
       "      <td>...</td>\n",
       "      <td>...</td>\n",
       "      <td>...</td>\n",
       "      <td>...</td>\n",
       "      <td>...</td>\n",
       "      <td>...</td>\n",
       "      <td>...</td>\n",
       "      <td>...</td>\n",
       "    </tr>\n",
       "    <tr>\n",
       "      <th>9996</th>\n",
       "      <td>False</td>\n",
       "      <td>False</td>\n",
       "      <td>False</td>\n",
       "      <td>False</td>\n",
       "      <td>False</td>\n",
       "      <td>False</td>\n",
       "      <td>False</td>\n",
       "      <td>False</td>\n",
       "      <td>False</td>\n",
       "      <td>True</td>\n",
       "      <td>...</td>\n",
       "      <td>False</td>\n",
       "      <td>False</td>\n",
       "      <td>False</td>\n",
       "      <td>False</td>\n",
       "      <td>False</td>\n",
       "      <td>False</td>\n",
       "      <td>False</td>\n",
       "      <td>False</td>\n",
       "      <td>False</td>\n",
       "      <td>False</td>\n",
       "    </tr>\n",
       "    <tr>\n",
       "      <th>9997</th>\n",
       "      <td>False</td>\n",
       "      <td>False</td>\n",
       "      <td>False</td>\n",
       "      <td>False</td>\n",
       "      <td>False</td>\n",
       "      <td>False</td>\n",
       "      <td>False</td>\n",
       "      <td>False</td>\n",
       "      <td>False</td>\n",
       "      <td>False</td>\n",
       "      <td>...</td>\n",
       "      <td>False</td>\n",
       "      <td>False</td>\n",
       "      <td>False</td>\n",
       "      <td>False</td>\n",
       "      <td>False</td>\n",
       "      <td>False</td>\n",
       "      <td>False</td>\n",
       "      <td>False</td>\n",
       "      <td>False</td>\n",
       "      <td>False</td>\n",
       "    </tr>\n",
       "    <tr>\n",
       "      <th>9998</th>\n",
       "      <td>False</td>\n",
       "      <td>False</td>\n",
       "      <td>False</td>\n",
       "      <td>False</td>\n",
       "      <td>False</td>\n",
       "      <td>False</td>\n",
       "      <td>False</td>\n",
       "      <td>False</td>\n",
       "      <td>True</td>\n",
       "      <td>True</td>\n",
       "      <td>...</td>\n",
       "      <td>False</td>\n",
       "      <td>False</td>\n",
       "      <td>False</td>\n",
       "      <td>False</td>\n",
       "      <td>False</td>\n",
       "      <td>False</td>\n",
       "      <td>False</td>\n",
       "      <td>True</td>\n",
       "      <td>False</td>\n",
       "      <td>False</td>\n",
       "    </tr>\n",
       "    <tr>\n",
       "      <th>9999</th>\n",
       "      <td>False</td>\n",
       "      <td>False</td>\n",
       "      <td>False</td>\n",
       "      <td>False</td>\n",
       "      <td>False</td>\n",
       "      <td>False</td>\n",
       "      <td>False</td>\n",
       "      <td>False</td>\n",
       "      <td>False</td>\n",
       "      <td>False</td>\n",
       "      <td>...</td>\n",
       "      <td>False</td>\n",
       "      <td>False</td>\n",
       "      <td>False</td>\n",
       "      <td>False</td>\n",
       "      <td>False</td>\n",
       "      <td>False</td>\n",
       "      <td>False</td>\n",
       "      <td>False</td>\n",
       "      <td>False</td>\n",
       "      <td>False</td>\n",
       "    </tr>\n",
       "    <tr>\n",
       "      <th>10000</th>\n",
       "      <td>False</td>\n",
       "      <td>False</td>\n",
       "      <td>False</td>\n",
       "      <td>False</td>\n",
       "      <td>False</td>\n",
       "      <td>False</td>\n",
       "      <td>False</td>\n",
       "      <td>False</td>\n",
       "      <td>False</td>\n",
       "      <td>False</td>\n",
       "      <td>...</td>\n",
       "      <td>False</td>\n",
       "      <td>False</td>\n",
       "      <td>False</td>\n",
       "      <td>False</td>\n",
       "      <td>False</td>\n",
       "      <td>False</td>\n",
       "      <td>False</td>\n",
       "      <td>False</td>\n",
       "      <td>False</td>\n",
       "      <td>False</td>\n",
       "    </tr>\n",
       "  </tbody>\n",
       "</table>\n",
       "<p>10000 rows × 35 columns</p>\n",
       "</div>"
      ],
      "text/plain": [
       "       Customer_id   City  State  County  Population   Area  Timezone    Job  \\\n",
       "1            False  False  False   False       False  False     False  False   \n",
       "2            False  False  False   False       False  False     False  False   \n",
       "3            False  False  False   False       False  False     False  False   \n",
       "4            False  False  False   False       False  False     False  False   \n",
       "5            False  False  False   False       False  False     False  False   \n",
       "...            ...    ...    ...     ...         ...    ...       ...    ...   \n",
       "9996         False  False  False   False       False  False     False  False   \n",
       "9997         False  False  False   False       False  False     False  False   \n",
       "9998         False  False  False   False       False  False     False  False   \n",
       "9999         False  False  False   False       False  False     False  False   \n",
       "10000        False  False  False   False       False  False     False  False   \n",
       "\n",
       "       Children    Age  ...  OnlineSecurity  OnlineBackup  DeviceProtection  \\\n",
       "1          True  False  ...           False         False             False   \n",
       "2         False  False  ...           False         False             False   \n",
       "3         False  False  ...           False         False             False   \n",
       "4         False  False  ...           False         False             False   \n",
       "5         False  False  ...           False         False             False   \n",
       "...         ...    ...  ...             ...           ...               ...   \n",
       "9996      False   True  ...           False         False             False   \n",
       "9997      False  False  ...           False         False             False   \n",
       "9998       True   True  ...           False         False             False   \n",
       "9999      False  False  ...           False         False             False   \n",
       "10000     False  False  ...           False         False             False   \n",
       "\n",
       "       StreamingTV  StreamingMovies  PaperlessBilling  PaymentMethod  Tenure  \\\n",
       "1            False            False             False          False   False   \n",
       "2            False            False             False          False   False   \n",
       "3            False            False             False          False   False   \n",
       "4            False            False             False          False   False   \n",
       "5            False            False             False          False   False   \n",
       "...            ...              ...               ...            ...     ...   \n",
       "9996         False            False             False          False   False   \n",
       "9997         False            False             False          False   False   \n",
       "9998         False            False             False          False    True   \n",
       "9999         False            False             False          False   False   \n",
       "10000        False            False             False          False   False   \n",
       "\n",
       "       MonthlyCharge  Bandwidth_GB_Year  \n",
       "1              False              False  \n",
       "2              False              False  \n",
       "3              False              False  \n",
       "4              False              False  \n",
       "5              False              False  \n",
       "...              ...                ...  \n",
       "9996           False              False  \n",
       "9997           False              False  \n",
       "9998           False              False  \n",
       "9999           False              False  \n",
       "10000          False              False  \n",
       "\n",
       "[10000 rows x 35 columns]"
      ]
     },
     "execution_count": 5,
     "metadata": {},
     "output_type": "execute_result"
    }
   ],
   "source": [
    "# Finding which rows have null values.\n",
    "df.isnull()"
   ]
  },
  {
   "cell_type": "markdown",
   "id": "839234f5",
   "metadata": {},
   "source": [
    "It looks to be good. Let's look closer."
   ]
  },
  {
   "cell_type": "code",
   "execution_count": 6,
   "id": "17dd9c0c",
   "metadata": {},
   "outputs": [
    {
     "data": {
      "text/plain": [
       "Customer_id             False\n",
       "City                    False\n",
       "State                   False\n",
       "County                  False\n",
       "Population              False\n",
       "Area                    False\n",
       "Timezone                False\n",
       "Job                     False\n",
       "Children                 True\n",
       "Age                      True\n",
       "Education               False\n",
       "Employment              False\n",
       "Income                   True\n",
       "Marital                 False\n",
       "Gender                  False\n",
       "Churn                   False\n",
       "Outage_sec_perweek      False\n",
       "Email                   False\n",
       "Contacts                False\n",
       "Yearly_equip_failure    False\n",
       "Contract                False\n",
       "Port_modem              False\n",
       "Tablet                  False\n",
       "InternetService         False\n",
       "Multiple                False\n",
       "OnlineSecurity          False\n",
       "OnlineBackup            False\n",
       "DeviceProtection        False\n",
       "StreamingTV             False\n",
       "StreamingMovies         False\n",
       "PaperlessBilling        False\n",
       "PaymentMethod           False\n",
       "Tenure                   True\n",
       "MonthlyCharge           False\n",
       "Bandwidth_GB_Year        True\n",
       "dtype: bool"
      ]
     },
     "execution_count": 6,
     "metadata": {},
     "output_type": "execute_result"
    }
   ],
   "source": [
    "# Shows which specific columns have NAs in them\n",
    "df.isna().any()"
   ]
  },
  {
   "cell_type": "markdown",
   "id": "24dcaa7b",
   "metadata": {},
   "source": [
    "Age, Children, Income, Tenure, Bandwidth_GB_Year all contain NA values that must be dealt with."
   ]
  },
  {
   "cell_type": "code",
   "execution_count": 7,
   "id": "b33be919",
   "metadata": {},
   "outputs": [
    {
     "name": "stdout",
     "output_type": "stream",
     "text": [
      "Customer_id                0\n",
      "City                       0\n",
      "State                      0\n",
      "County                     0\n",
      "Population                 0\n",
      "Area                       0\n",
      "Timezone                   0\n",
      "Job                        0\n",
      "Children                2495\n",
      "Age                     2475\n",
      "Education                  0\n",
      "Employment                 0\n",
      "Income                  2490\n",
      "Marital                    0\n",
      "Gender                     0\n",
      "Churn                      0\n",
      "Outage_sec_perweek         0\n",
      "Email                      0\n",
      "Contacts                   0\n",
      "Yearly_equip_failure       0\n",
      "Contract                   0\n",
      "Port_modem                 0\n",
      "Tablet                     0\n",
      "InternetService            0\n",
      "Multiple                   0\n",
      "OnlineSecurity             0\n",
      "OnlineBackup               0\n",
      "DeviceProtection           0\n",
      "StreamingTV                0\n",
      "StreamingMovies            0\n",
      "PaperlessBilling           0\n",
      "PaymentMethod              0\n",
      "Tenure                   931\n",
      "MonthlyCharge              0\n",
      "Bandwidth_GB_Year       1021\n",
      "dtype: int64\n"
     ]
    }
   ],
   "source": [
    "# How many rows, and which rows, have null data?\n",
    "\n",
    "null_data_rows = df.isnull().sum()\n",
    "print(null_data_rows)"
   ]
  },
  {
   "cell_type": "code",
   "execution_count": 8,
   "id": "902d3132",
   "metadata": {},
   "outputs": [
    {
     "data": {
      "text/html": [
       "<div>\n",
       "<style scoped>\n",
       "    .dataframe tbody tr th:only-of-type {\n",
       "        vertical-align: middle;\n",
       "    }\n",
       "\n",
       "    .dataframe tbody tr th {\n",
       "        vertical-align: top;\n",
       "    }\n",
       "\n",
       "    .dataframe thead th {\n",
       "        text-align: right;\n",
       "    }\n",
       "</style>\n",
       "<table border=\"1\" class=\"dataframe\">\n",
       "  <thead>\n",
       "    <tr style=\"text-align: right;\">\n",
       "      <th></th>\n",
       "      <th>Customer_id</th>\n",
       "      <th>City</th>\n",
       "      <th>State</th>\n",
       "      <th>County</th>\n",
       "      <th>Population</th>\n",
       "      <th>Area</th>\n",
       "      <th>Timezone</th>\n",
       "      <th>Job</th>\n",
       "      <th>Children</th>\n",
       "      <th>Age</th>\n",
       "      <th>...</th>\n",
       "      <th>OnlineSecurity</th>\n",
       "      <th>OnlineBackup</th>\n",
       "      <th>DeviceProtection</th>\n",
       "      <th>StreamingTV</th>\n",
       "      <th>StreamingMovies</th>\n",
       "      <th>PaperlessBilling</th>\n",
       "      <th>PaymentMethod</th>\n",
       "      <th>Tenure</th>\n",
       "      <th>MonthlyCharge</th>\n",
       "      <th>Bandwidth_GB_Year</th>\n",
       "    </tr>\n",
       "  </thead>\n",
       "  <tbody>\n",
       "    <tr>\n",
       "      <th>1</th>\n",
       "      <td>K409198</td>\n",
       "      <td>Point Baker</td>\n",
       "      <td>AK</td>\n",
       "      <td>Prince of Wales-Hyder</td>\n",
       "      <td>38</td>\n",
       "      <td>Urban</td>\n",
       "      <td>America/Sitka</td>\n",
       "      <td>Environmental health practitioner</td>\n",
       "      <td>NaN</td>\n",
       "      <td>68.0</td>\n",
       "      <td>...</td>\n",
       "      <td>Yes</td>\n",
       "      <td>Yes</td>\n",
       "      <td>No</td>\n",
       "      <td>No</td>\n",
       "      <td>Yes</td>\n",
       "      <td>Yes</td>\n",
       "      <td>Credit Card (automatic)</td>\n",
       "      <td>6.795513</td>\n",
       "      <td>171.449762</td>\n",
       "      <td>904.536110</td>\n",
       "    </tr>\n",
       "    <tr>\n",
       "      <th>3</th>\n",
       "      <td>K191035</td>\n",
       "      <td>Yamhill</td>\n",
       "      <td>OR</td>\n",
       "      <td>Yamhill</td>\n",
       "      <td>3735</td>\n",
       "      <td>Urban</td>\n",
       "      <td>America/Los_Angeles</td>\n",
       "      <td>Chief Financial Officer</td>\n",
       "      <td>4.0</td>\n",
       "      <td>50.0</td>\n",
       "      <td>...</td>\n",
       "      <td>No</td>\n",
       "      <td>No</td>\n",
       "      <td>No</td>\n",
       "      <td>No</td>\n",
       "      <td>Yes</td>\n",
       "      <td>Yes</td>\n",
       "      <td>Credit Card (automatic)</td>\n",
       "      <td>15.754144</td>\n",
       "      <td>159.440398</td>\n",
       "      <td>2054.706961</td>\n",
       "    </tr>\n",
       "    <tr>\n",
       "      <th>6</th>\n",
       "      <td>W303516</td>\n",
       "      <td>Fort Valley</td>\n",
       "      <td>GA</td>\n",
       "      <td>Peach</td>\n",
       "      <td>17701</td>\n",
       "      <td>Urban</td>\n",
       "      <td>America/New_York</td>\n",
       "      <td>Chief Technology Officer</td>\n",
       "      <td>3.0</td>\n",
       "      <td>83.0</td>\n",
       "      <td>...</td>\n",
       "      <td>Yes</td>\n",
       "      <td>Yes</td>\n",
       "      <td>Yes</td>\n",
       "      <td>No</td>\n",
       "      <td>Yes</td>\n",
       "      <td>No</td>\n",
       "      <td>Electronic Check</td>\n",
       "      <td>7.000994</td>\n",
       "      <td>184.401558</td>\n",
       "      <td>1039.357983</td>\n",
       "    </tr>\n",
       "    <tr>\n",
       "      <th>7</th>\n",
       "      <td>U335188</td>\n",
       "      <td>Pioneer</td>\n",
       "      <td>TN</td>\n",
       "      <td>Scott</td>\n",
       "      <td>2535</td>\n",
       "      <td>Suburban</td>\n",
       "      <td>America/New_York</td>\n",
       "      <td>Surveyor, hydrographic</td>\n",
       "      <td>0.0</td>\n",
       "      <td>NaN</td>\n",
       "      <td>...</td>\n",
       "      <td>No</td>\n",
       "      <td>No</td>\n",
       "      <td>No</td>\n",
       "      <td>Yes</td>\n",
       "      <td>Yes</td>\n",
       "      <td>No</td>\n",
       "      <td>Electronic Check</td>\n",
       "      <td>13.236774</td>\n",
       "      <td>200.064886</td>\n",
       "      <td>1907.242972</td>\n",
       "    </tr>\n",
       "    <tr>\n",
       "      <th>8</th>\n",
       "      <td>V538685</td>\n",
       "      <td>Oklahoma City</td>\n",
       "      <td>OK</td>\n",
       "      <td>Oklahoma</td>\n",
       "      <td>23144</td>\n",
       "      <td>Suburban</td>\n",
       "      <td>America/Chicago</td>\n",
       "      <td>Sales promotion account executive</td>\n",
       "      <td>2.0</td>\n",
       "      <td>NaN</td>\n",
       "      <td>...</td>\n",
       "      <td>No</td>\n",
       "      <td>Yes</td>\n",
       "      <td>No</td>\n",
       "      <td>No</td>\n",
       "      <td>No</td>\n",
       "      <td>Yes</td>\n",
       "      <td>Mailed Check</td>\n",
       "      <td>NaN</td>\n",
       "      <td>114.754111</td>\n",
       "      <td>979.612708</td>\n",
       "    </tr>\n",
       "    <tr>\n",
       "      <th>...</th>\n",
       "      <td>...</td>\n",
       "      <td>...</td>\n",
       "      <td>...</td>\n",
       "      <td>...</td>\n",
       "      <td>...</td>\n",
       "      <td>...</td>\n",
       "      <td>...</td>\n",
       "      <td>...</td>\n",
       "      <td>...</td>\n",
       "      <td>...</td>\n",
       "      <td>...</td>\n",
       "      <td>...</td>\n",
       "      <td>...</td>\n",
       "      <td>...</td>\n",
       "      <td>...</td>\n",
       "      <td>...</td>\n",
       "      <td>...</td>\n",
       "      <td>...</td>\n",
       "      <td>...</td>\n",
       "      <td>...</td>\n",
       "      <td>...</td>\n",
       "    </tr>\n",
       "    <tr>\n",
       "      <th>9995</th>\n",
       "      <td>P175475</td>\n",
       "      <td>West Kill</td>\n",
       "      <td>NY</td>\n",
       "      <td>Greene</td>\n",
       "      <td>210</td>\n",
       "      <td>Urban</td>\n",
       "      <td>America/New_York</td>\n",
       "      <td>Youth worker</td>\n",
       "      <td>NaN</td>\n",
       "      <td>46.0</td>\n",
       "      <td>...</td>\n",
       "      <td>Yes</td>\n",
       "      <td>No</td>\n",
       "      <td>Yes</td>\n",
       "      <td>No</td>\n",
       "      <td>Yes</td>\n",
       "      <td>No</td>\n",
       "      <td>Credit Card (automatic)</td>\n",
       "      <td>NaN</td>\n",
       "      <td>143.687900</td>\n",
       "      <td>4945.756000</td>\n",
       "    </tr>\n",
       "    <tr>\n",
       "      <th>9996</th>\n",
       "      <td>M324793</td>\n",
       "      <td>Mount Holly</td>\n",
       "      <td>VT</td>\n",
       "      <td>Rutland</td>\n",
       "      <td>640</td>\n",
       "      <td>Rural</td>\n",
       "      <td>America/New_York</td>\n",
       "      <td>Sport and exercise psychologist</td>\n",
       "      <td>3.0</td>\n",
       "      <td>NaN</td>\n",
       "      <td>...</td>\n",
       "      <td>No</td>\n",
       "      <td>Yes</td>\n",
       "      <td>Yes</td>\n",
       "      <td>No</td>\n",
       "      <td>No</td>\n",
       "      <td>No</td>\n",
       "      <td>Electronic Check</td>\n",
       "      <td>68.197130</td>\n",
       "      <td>159.828800</td>\n",
       "      <td>6511.253000</td>\n",
       "    </tr>\n",
       "    <tr>\n",
       "      <th>9997</th>\n",
       "      <td>D861732</td>\n",
       "      <td>Clarksville</td>\n",
       "      <td>TN</td>\n",
       "      <td>Montgomery</td>\n",
       "      <td>77168</td>\n",
       "      <td>Rural</td>\n",
       "      <td>America/Chicago</td>\n",
       "      <td>Consulting civil engineer</td>\n",
       "      <td>4.0</td>\n",
       "      <td>48.0</td>\n",
       "      <td>...</td>\n",
       "      <td>Yes</td>\n",
       "      <td>Yes</td>\n",
       "      <td>Yes</td>\n",
       "      <td>Yes</td>\n",
       "      <td>No</td>\n",
       "      <td>No</td>\n",
       "      <td>Electronic Check</td>\n",
       "      <td>61.040370</td>\n",
       "      <td>208.856400</td>\n",
       "      <td>5695.952000</td>\n",
       "    </tr>\n",
       "    <tr>\n",
       "      <th>9998</th>\n",
       "      <td>I243405</td>\n",
       "      <td>Mobeetie</td>\n",
       "      <td>TX</td>\n",
       "      <td>Wheeler</td>\n",
       "      <td>406</td>\n",
       "      <td>Rural</td>\n",
       "      <td>America/Chicago</td>\n",
       "      <td>IT technical support officer</td>\n",
       "      <td>NaN</td>\n",
       "      <td>NaN</td>\n",
       "      <td>...</td>\n",
       "      <td>Yes</td>\n",
       "      <td>Yes</td>\n",
       "      <td>No</td>\n",
       "      <td>No</td>\n",
       "      <td>No</td>\n",
       "      <td>Yes</td>\n",
       "      <td>Bank Transfer(automatic)</td>\n",
       "      <td>NaN</td>\n",
       "      <td>168.220900</td>\n",
       "      <td>4159.306000</td>\n",
       "    </tr>\n",
       "    <tr>\n",
       "      <th>10000</th>\n",
       "      <td>T38070</td>\n",
       "      <td>Clarkesville</td>\n",
       "      <td>GA</td>\n",
       "      <td>Habersham</td>\n",
       "      <td>12230</td>\n",
       "      <td>Urban</td>\n",
       "      <td>America/New_York</td>\n",
       "      <td>Personal assistant</td>\n",
       "      <td>1.0</td>\n",
       "      <td>28.0</td>\n",
       "      <td>...</td>\n",
       "      <td>Yes</td>\n",
       "      <td>Yes</td>\n",
       "      <td>Yes</td>\n",
       "      <td>No</td>\n",
       "      <td>Yes</td>\n",
       "      <td>Yes</td>\n",
       "      <td>Electronic Check</td>\n",
       "      <td>63.350860</td>\n",
       "      <td>218.371000</td>\n",
       "      <td>5857.586000</td>\n",
       "    </tr>\n",
       "  </tbody>\n",
       "</table>\n",
       "<p>6544 rows × 35 columns</p>\n",
       "</div>"
      ],
      "text/plain": [
       "      Customer_id           City State                 County  Population  \\\n",
       "1         K409198    Point Baker    AK  Prince of Wales-Hyder          38   \n",
       "3         K191035        Yamhill    OR                Yamhill        3735   \n",
       "6         W303516    Fort Valley    GA                  Peach       17701   \n",
       "7         U335188        Pioneer    TN                  Scott        2535   \n",
       "8         V538685  Oklahoma City    OK               Oklahoma       23144   \n",
       "...           ...            ...   ...                    ...         ...   \n",
       "9995      P175475      West Kill    NY                 Greene         210   \n",
       "9996      M324793    Mount Holly    VT                Rutland         640   \n",
       "9997      D861732    Clarksville    TN             Montgomery       77168   \n",
       "9998      I243405       Mobeetie    TX                Wheeler         406   \n",
       "10000      T38070   Clarkesville    GA              Habersham       12230   \n",
       "\n",
       "           Area             Timezone                                Job  \\\n",
       "1         Urban        America/Sitka  Environmental health practitioner   \n",
       "3         Urban  America/Los_Angeles            Chief Financial Officer   \n",
       "6         Urban     America/New_York           Chief Technology Officer   \n",
       "7      Suburban     America/New_York             Surveyor, hydrographic   \n",
       "8      Suburban      America/Chicago  Sales promotion account executive   \n",
       "...         ...                  ...                                ...   \n",
       "9995      Urban     America/New_York                       Youth worker   \n",
       "9996      Rural     America/New_York    Sport and exercise psychologist   \n",
       "9997      Rural      America/Chicago          Consulting civil engineer   \n",
       "9998      Rural      America/Chicago       IT technical support officer   \n",
       "10000     Urban     America/New_York                 Personal assistant   \n",
       "\n",
       "       Children   Age  ... OnlineSecurity OnlineBackup  DeviceProtection  \\\n",
       "1           NaN  68.0  ...            Yes          Yes                No   \n",
       "3           4.0  50.0  ...             No           No                No   \n",
       "6           3.0  83.0  ...            Yes          Yes               Yes   \n",
       "7           0.0   NaN  ...             No           No                No   \n",
       "8           2.0   NaN  ...             No          Yes                No   \n",
       "...         ...   ...  ...            ...          ...               ...   \n",
       "9995        NaN  46.0  ...            Yes           No               Yes   \n",
       "9996        3.0   NaN  ...             No          Yes               Yes   \n",
       "9997        4.0  48.0  ...            Yes          Yes               Yes   \n",
       "9998        NaN   NaN  ...            Yes          Yes                No   \n",
       "10000       1.0  28.0  ...            Yes          Yes               Yes   \n",
       "\n",
       "      StreamingTV StreamingMovies PaperlessBilling             PaymentMethod  \\\n",
       "1              No             Yes              Yes   Credit Card (automatic)   \n",
       "3              No             Yes              Yes   Credit Card (automatic)   \n",
       "6              No             Yes               No          Electronic Check   \n",
       "7             Yes             Yes               No          Electronic Check   \n",
       "8              No              No              Yes              Mailed Check   \n",
       "...           ...             ...              ...                       ...   \n",
       "9995           No             Yes               No   Credit Card (automatic)   \n",
       "9996           No              No               No          Electronic Check   \n",
       "9997          Yes              No               No          Electronic Check   \n",
       "9998           No              No              Yes  Bank Transfer(automatic)   \n",
       "10000          No             Yes              Yes          Electronic Check   \n",
       "\n",
       "          Tenure  MonthlyCharge  Bandwidth_GB_Year  \n",
       "1       6.795513     171.449762         904.536110  \n",
       "3      15.754144     159.440398        2054.706961  \n",
       "6       7.000994     184.401558        1039.357983  \n",
       "7      13.236774     200.064886        1907.242972  \n",
       "8            NaN     114.754111         979.612708  \n",
       "...          ...            ...                ...  \n",
       "9995         NaN     143.687900        4945.756000  \n",
       "9996   68.197130     159.828800        6511.253000  \n",
       "9997   61.040370     208.856400        5695.952000  \n",
       "9998         NaN     168.220900        4159.306000  \n",
       "10000  63.350860     218.371000        5857.586000  \n",
       "\n",
       "[6544 rows x 35 columns]"
      ]
     },
     "execution_count": 8,
     "metadata": {},
     "output_type": "execute_result"
    }
   ],
   "source": [
    "# This will show rows from this data frame that do contain missing values\n",
    "\n",
    "df_missing_values = df.isnull().any(axis=1)\n",
    "df[df_missing_values]"
   ]
  },
  {
   "cell_type": "markdown",
   "id": "be3d9be7",
   "metadata": {},
   "source": [
    "### C3. Justification of Tools"
   ]
  },
  {
   "cell_type": "markdown",
   "id": "110502d9",
   "metadata": {},
   "source": [
    "For this project, I will use Python because of the libraries available. While R could be used, I have more experience with Python through other projects.\n",
    "\n",
    "I used the following packages as well specifically for this project:\n",
    "    \n",
    "* NumPy - for creating and manipulating matrices\n",
    "* pandas - for using data frames, importing CSV, exporting CSV, and manipulating tables/rows/cells\n",
    "* PCA through sci-kit learn - PCA used specifically to perform principle component analysis\n",
    "* matplotlib - used to create graphs/charts for data visualization\n",
    "\n",
    "I used Jupyter notebooks for this project because it provides a very useful way to run, test, and write code with immediate visual results. I use it also because of the ability to create markdown documents which allow for easy visualization.\n",
    "\n",
    "Using the above languages, tools, programs, libraries, and applications allows me to create a running-document. This allows me to use tools that already exist to perform a task."
   ]
  },
  {
   "cell_type": "markdown",
   "id": "4896e0b2",
   "metadata": {},
   "source": [
    "#### Finding typos and similar mistakes\n",
    "\n",
    "I will run unique() on select categorical rows and use the output to determine if there are any blaring typographical errors that present themselves."
   ]
  },
  {
   "cell_type": "code",
   "execution_count": 9,
   "id": "8821b801",
   "metadata": {},
   "outputs": [
    {
     "data": {
      "text/plain": [
       "array(['Part Time', 'Retired', 'Student', 'Full Time', 'Unemployed'],\n",
       "      dtype=object)"
      ]
     },
     "execution_count": 9,
     "metadata": {},
     "output_type": "execute_result"
    }
   ],
   "source": [
    "# Look at unique employment values\n",
    "df['Employment'].unique()"
   ]
  },
  {
   "cell_type": "code",
   "execution_count": 10,
   "id": "c606c821",
   "metadata": {},
   "outputs": [
    {
     "data": {
      "text/plain": [
       "array(['Urban', 'Suburban', 'Rural'], dtype=object)"
      ]
     },
     "execution_count": 10,
     "metadata": {},
     "output_type": "execute_result"
    }
   ],
   "source": [
    "# Look at unique area values\n",
    "df['Area'].unique()"
   ]
  },
  {
   "cell_type": "code",
   "execution_count": 11,
   "id": "becf7b0a",
   "metadata": {},
   "outputs": [
    {
     "data": {
      "text/plain": [
       "array(['America/Sitka', 'America/Detroit', 'America/Los_Angeles',\n",
       "       'America/Chicago', 'America/New_York', 'America/Puerto_Rico',\n",
       "       'America/Denver', 'America/Menominee', 'America/Phoenix',\n",
       "       'America/Indiana/Indianapolis', 'America/Boise',\n",
       "       'America/Kentucky/Louisville', 'Pacific/Honolulu',\n",
       "       'America/Indiana/Petersburg', 'America/Nome', 'America/Anchorage',\n",
       "       'America/Indiana/Knox', 'America/Juneau', 'America/Toronto',\n",
       "       'America/Indiana/Winamac', 'America/Indiana/Vincennes',\n",
       "       'America/North_Dakota/New_Salem', 'America/Indiana/Tell_City',\n",
       "       'America/Indiana/Marengo', 'America/Ojinaga'], dtype=object)"
      ]
     },
     "execution_count": 11,
     "metadata": {},
     "output_type": "execute_result"
    }
   ],
   "source": [
    "# Look at unique timezone values\n",
    "df['Timezone'].unique()"
   ]
  },
  {
   "cell_type": "code",
   "execution_count": 12,
   "id": "f3ce8308",
   "metadata": {
    "scrolled": true
   },
   "outputs": [
    {
     "data": {
      "text/plain": [
       "array([\"Master's Degree\", 'Regular High School Diploma',\n",
       "       'Doctorate Degree', 'No Schooling Completed', \"Associate's Degree\",\n",
       "       \"Bachelor's Degree\", 'Some College, Less than 1 Year',\n",
       "       'GED or Alternative Credential',\n",
       "       'Some College, 1 or More Years, No Degree',\n",
       "       '9th Grade to 12th Grade, No Diploma',\n",
       "       'Nursery School to 8th Grade', 'Professional School Degree'],\n",
       "      dtype=object)"
      ]
     },
     "execution_count": 12,
     "metadata": {},
     "output_type": "execute_result"
    }
   ],
   "source": [
    "# Look at unique education values\n",
    "df['Education'].unique()"
   ]
  },
  {
   "cell_type": "code",
   "execution_count": 13,
   "id": "66e57048",
   "metadata": {},
   "outputs": [
    {
     "data": {
      "text/plain": [
       "array(['Widowed', 'Married', 'Separated', 'Never Married', 'Divorced'],\n",
       "      dtype=object)"
      ]
     },
     "execution_count": 13,
     "metadata": {},
     "output_type": "execute_result"
    }
   ],
   "source": [
    "# Look at unique marital status\n",
    "df['Marital'].unique()"
   ]
  },
  {
   "cell_type": "code",
   "execution_count": 14,
   "id": "e6afdf54",
   "metadata": {},
   "outputs": [
    {
     "data": {
      "text/plain": [
       "array(['Male', 'Female', 'Prefer not to answer'], dtype=object)"
      ]
     },
     "execution_count": 14,
     "metadata": {},
     "output_type": "execute_result"
    }
   ],
   "source": [
    "# Look at unique gender values\n",
    "df['Gender'].unique()"
   ]
  },
  {
   "cell_type": "code",
   "execution_count": 15,
   "id": "34f526ca",
   "metadata": {},
   "outputs": [
    {
     "data": {
      "text/plain": [
       "array(['Credit Card (automatic)', 'Bank Transfer(automatic)',\n",
       "       'Mailed Check', 'Electronic Check'], dtype=object)"
      ]
     },
     "execution_count": 15,
     "metadata": {},
     "output_type": "execute_result"
    }
   ],
   "source": [
    "# Look at unique payment methods\n",
    "df['PaymentMethod'].unique()"
   ]
  },
  {
   "cell_type": "markdown",
   "id": "2d231181",
   "metadata": {},
   "source": [
    "#### There are fields with missing values. To solve this, I will use the median value to place into blank fields"
   ]
  },
  {
   "cell_type": "code",
   "execution_count": 16,
   "id": "bf60fa73",
   "metadata": {},
   "outputs": [],
   "source": [
    "# Add median value to blank fields for the following variables/columns:\n",
    "# Age, Income, Tenure, Children, Bandwidth GB Year\n",
    "\n",
    "df['Age'] = df['Age'].fillna(df['Age'].median())\n",
    "\n",
    "df['Income'] = df['Income'].fillna(df['Income'].median())\n",
    "\n",
    "df['Tenure'] = df['Tenure'].fillna(df['Tenure'].median())\n",
    "\n",
    "df['Children'] = df['Children'].fillna(df['Children'].median())\n",
    "\n",
    "df['Bandwidth_GB_Year'] = df['Bandwidth_GB_Year'].fillna(df['Bandwidth_GB_Year'].median())"
   ]
  },
  {
   "cell_type": "markdown",
   "id": "c1df9e5a",
   "metadata": {},
   "source": [
    "# Part III"
   ]
  },
  {
   "cell_type": "markdown",
   "id": "817e374a",
   "metadata": {},
   "source": [
    "## D: Summary of Data Cleaning Process"
   ]
  },
  {
   "cell_type": "markdown",
   "id": "59c3fbc9",
   "metadata": {},
   "source": [
    "### Duplicate Rows"
   ]
  },
  {
   "cell_type": "code",
   "execution_count": 17,
   "id": "edc81f65",
   "metadata": {},
   "outputs": [
    {
     "name": "stdout",
     "output_type": "stream",
     "text": [
      "Empty DataFrame\n",
      "Columns: [Customer_id, City, State, County, Population, Area, Timezone, Job, Children, Age, Education, Employment, Income, Marital, Gender, Churn, Outage_sec_perweek, Email, Contacts, Yearly_equip_failure, Contract, Port_modem, Tablet, InternetService, Multiple, OnlineSecurity, OnlineBackup, DeviceProtection, StreamingTV, StreamingMovies, PaperlessBilling, PaymentMethod, Tenure, MonthlyCharge, Bandwidth_GB_Year]\n",
      "Index: []\n",
      "\n",
      "[0 rows x 35 columns]\n"
     ]
    }
   ],
   "source": [
    "# Creates a data frame that contains rows that are duplicates from\n",
    "# other rows, and then displays the contents of that data frame.\n",
    "\n",
    "# Useful to discover if there are identical repeat\n",
    "# rows that could skew our data inappropriately\n",
    "\n",
    "duplicates = df.loc[df.duplicated()]\n",
    "print(duplicates)"
   ]
  },
  {
   "cell_type": "markdown",
   "id": "3d2dac08",
   "metadata": {},
   "source": [
    "In the prior section, I discovered the following data anomalies: Null values, NA values, and blank values. For the quantitative variables, I have identified that Age, Tenure, Children, Income, and Bandwidth_GB_Year all had the aforementioned anomalies. To mitigate, I placed the median value of all valid entries and used that as input for the fields. Using the mean instead of the median has the potential to skew my results by making my results more susceptible to outliers."
   ]
  },
  {
   "cell_type": "markdown",
   "id": "5acba210",
   "metadata": {},
   "source": [
    "### Anomaly Visualization and Data Visualization"
   ]
  },
  {
   "cell_type": "markdown",
   "id": "20b5de3c",
   "metadata": {},
   "source": [
    "Here I will visualize my key variables, and use the visualization to explore the presence of anomalies."
   ]
  },
  {
   "cell_type": "code",
   "execution_count": 18,
   "id": "7f194bd6",
   "metadata": {},
   "outputs": [
    {
     "data": {
      "image/png": "[encoded data removed]",
      "text/plain": [
       "<Figure size 432x288 with 6 Axes>"
      ]
     },
     "metadata": {
      "needs_background": "light"
     },
     "output_type": "display_data"
    }
   ],
   "source": [
    "df[['Children', 'Age', 'Income', 'Tenure', 'MonthlyCharge', 'Bandwidth_GB_Year']].hist()\n",
    "plt.savefig('churn_pyplot.jpg')\n",
    "plt.tight_layout()\n",
    "# plt.close()"
   ]
  },
  {
   "cell_type": "markdown",
   "id": "5e44a403",
   "metadata": {},
   "source": [
    "On the above distributions, Monthly Charge is roughly normal, which is to be expected. The Income and Children variables approximate either a binomial distribution or a Poisson distribution which is on par with expected results.\n",
    "\n",
    "The Age variable shows a large spike around the age of 50, which makes sense due to the data replacement I made in earlier steps. Blank, NA, null, and 0 values were replaced with the median age which contributes to the visualization we see above."
   ]
  },
  {
   "cell_type": "markdown",
   "id": "4ebee84f",
   "metadata": {},
   "source": [
    "#### Saving the cleaned dataframe to a new CSV file"
   ]
  },
  {
   "cell_type": "code",
   "execution_count": 19,
   "id": "fe57d3c5",
   "metadata": {},
   "outputs": [],
   "source": [
    "df.to_csv('churned_cleaned.csv')"
   ]
  },
  {
   "cell_type": "markdown",
   "id": "ebea12ca",
   "metadata": {},
   "source": [
    "### D6: Limitations of the Data"
   ]
  },
  {
   "cell_type": "markdown",
   "id": "b047c68d",
   "metadata": {},
   "source": [
    "Limitations of the cleaning process occur where imputation was used to modify the data. Monthly Billing and Age are two examples of such. Using the median value for null/blank data fields in age allowed for principal component analysis to occur. However, by using the median value some degree of accuracy is lost, especially in the larger picture of the data set. With the age variable, there will be customers that do not have their true age after imputation. \n",
    "\n",
    "Another example is bandwidth_GB_year. By using imputation, the median value of bandwidth_GB_year, there will be customers in the data set that do not have an accurate representation of their true bandwidth consumption thus skewing the results."
   ]
  },
  {
   "cell_type": "markdown",
   "id": "a8d04b60",
   "metadata": {},
   "source": [
    "### D7: Impact of the Limitaitons of the Data"
   ]
  },
  {
   "cell_type": "markdown",
   "id": "ba6a8950",
   "metadata": {},
   "source": [
    "The aforementioned limitations in the data cleaning may have an impact on the interpretation of the results of the data. Using the median value for Monthly Billing might be a good metric for an accounting department wishing to provide revenue estimates, but a sales manager could be missing opportunities to provide upgrade packages or additional services. \n",
    "\n",
    "Imputation on the age and bandwith_GB_year could influence the companies marketing decisions. Customers could be grouped into \"high usage\" and \"low usage\" categories. If a customer is shown to use little bandwidth per year when their true bandwidth usage is high, the company could be missing an opportunity to sell the customer a different internet package with higher internet speeds. Moreover, senior citizens and young adults are in different market segments. Products or services typically associated with young adults, such as sports packages and complimentary subscription servers, may not be useful to an elderly customer whereas an elderly customer might be more interested in having a landline phone connection. If age is incorrectly estimated this raises difficulties in accurately marketing to the company's customers."
   ]
  },
  {
   "cell_type": "markdown",
   "id": "7733754f",
   "metadata": {},
   "source": [
    "## E: Principle Component Analysis\n",
    "\n",
    "E.  Apply principal component analysis (PCA) to identify the significant features of the data set by doing the following:\n",
    "\n",
    "1.  List the principal components in the data set.\n",
    "\n",
    "2.  Describe how you identified the principal components of the data set.\n",
    "\n",
    "3.  Describe how the organization can benefit from the results of the PCA"
   ]
  },
  {
   "cell_type": "markdown",
   "id": "bfa87209",
   "metadata": {},
   "source": [
    "PCA will be performed using the below variables:"
   ]
  },
  {
   "cell_type": "code",
   "execution_count": 20,
   "id": "1eb1b651",
   "metadata": {},
   "outputs": [],
   "source": [
    "df_pca = df[['Population','Children','Age','Income','Outage_sec_perweek','Email','Contacts','Yearly_equip_failure','Tenure','MonthlyCharge','Bandwidth_GB_Year']]"
   ]
  },
  {
   "cell_type": "markdown",
   "id": "cc4e5b94",
   "metadata": {},
   "source": [
    "Normalizaing the data:"
   ]
  },
  {
   "cell_type": "code",
   "execution_count": 21,
   "id": "43380a43",
   "metadata": {},
   "outputs": [],
   "source": [
    "df_pca_normalized=(df_pca-df_pca.mean())/df_pca.std()"
   ]
  },
  {
   "cell_type": "markdown",
   "id": "aa7eebed",
   "metadata": {},
   "source": [
    "Selecting the number of components to extract:"
   ]
  },
  {
   "cell_type": "code",
   "execution_count": 22,
   "id": "94561e87",
   "metadata": {},
   "outputs": [],
   "source": [
    "pca = PCA(n_components=df_pca.shape[1])"
   ]
  },
  {
   "cell_type": "markdown",
   "id": "1ab4cd9d",
   "metadata": {},
   "source": [
    "Convert the dataset of variables into dataset of components:"
   ]
  },
  {
   "cell_type": "code",
   "execution_count": 23,
   "id": "8c55e83d",
   "metadata": {},
   "outputs": [],
   "source": [
    "pca.fit(df_pca_normalized)\n",
    "df_pca_components = pd.DataFrame(pca.transform(df_pca_normalized),     \n",
    "     columns=['PC1','PC2','PC3','PC4','PC5','PC6','PC7','PC8','PC9','PC10','PC11'])"
   ]
  },
  {
   "cell_type": "markdown",
   "id": "8f25826b",
   "metadata": {},
   "source": [
    "Create and display Scree Plot:"
   ]
  },
  {
   "cell_type": "code",
   "execution_count": 24,
   "id": "822b18e7",
   "metadata": {},
   "outputs": [
    {
     "data": {
      "image/png": "[encoded data removed]",
      "text/plain": [
       "<Figure size 432x288 with 1 Axes>"
      ]
     },
     "metadata": {
      "needs_background": "light"
     },
     "output_type": "display_data"
    }
   ],
   "source": [
    "plt.plot(pca.explained_variance_ratio_)\n",
    "plt.xlabel('number of components')\n",
    "plt.ylabel('explained variance')\n",
    "plt.show()"
   ]
  },
  {
   "cell_type": "markdown",
   "id": "3de71c95",
   "metadata": {},
   "source": [
    "Extracting the eigenvalues:"
   ]
  },
  {
   "cell_type": "code",
   "execution_count": 25,
   "id": "546c55d0",
   "metadata": {},
   "outputs": [],
   "source": [
    "cov_matrix = np.dot(df_pca_normalized.T, df_pca_normalized) / df_pca_components.shape[0]\n",
    "eigenvalues = [np.dot(eigenvector.T, np.dot(cov_matrix, eigenvector)) for eigenvector in pca.components_]"
   ]
  },
  {
   "cell_type": "code",
   "execution_count": 26,
   "id": "df3514e1",
   "metadata": {},
   "outputs": [
    {
     "data": {
      "image/png": "[encoded data removed]",
      "text/plain": [
       "<Figure size 432x288 with 1 Axes>"
      ]
     },
     "metadata": {
      "needs_background": "light"
     },
     "output_type": "display_data"
    }
   ],
   "source": [
    "plt.plot(eigenvalues)\n",
    "plt.xlabel('Number of Components')\n",
    "plt.ylabel('Eigen Values')\n",
    "plt.show();"
   ]
  },
  {
   "cell_type": "markdown",
   "id": "ddd490e9",
   "metadata": {},
   "source": [
    "Choose the fewest components from the PCA:"
   ]
  },
  {
   "cell_type": "code",
   "execution_count": 27,
   "id": "43bcd22a",
   "metadata": {},
   "outputs": [
    {
     "name": "stdout",
     "output_type": "stream",
     "text": [
      "PC1 0.17244993159605304\n",
      "PC2 0.2753495936482726\n",
      "PC3 0.3706212623504477\n",
      "PC4 0.46362429558505946\n",
      "PC5 0.5548872112206896\n",
      "PC6 0.6454219069153501\n",
      "PC7 0.7352552793560467\n",
      "PC8 0.8244724601975989\n",
      "PC9 0.9119783436096773\n",
      "PC10 0.9906307587163313\n",
      "PC11 1.0000000000000002\n"
     ]
    }
   ],
   "source": [
    "# Select the fewest components \n",
    "for pc, var in zip(['PC1','PC2','PC3','PC4','PC5','PC6','PC7','PC8','PC9','PC10','PC11'], np.cumsum(pca.explained_variance_ratio_)):\n",
    "    print(pc, var)"
   ]
  },
  {
   "cell_type": "markdown",
   "id": "86c5d56b",
   "metadata": {},
   "source": [
    "From the above, 7 components account for approximately 73% of the variance. 8 components account for approximately 82% of the variance."
   ]
  },
  {
   "cell_type": "code",
   "execution_count": 28,
   "id": "c0622796",
   "metadata": {},
   "outputs": [
    {
     "data": {
      "text/html": [
       "<div>\n",
       "<style scoped>\n",
       "    .dataframe tbody tr th:only-of-type {\n",
       "        vertical-align: middle;\n",
       "    }\n",
       "\n",
       "    .dataframe tbody tr th {\n",
       "        vertical-align: top;\n",
       "    }\n",
       "\n",
       "    .dataframe thead th {\n",
       "        text-align: right;\n",
       "    }\n",
       "</style>\n",
       "<table border=\"1\" class=\"dataframe\">\n",
       "  <thead>\n",
       "    <tr style=\"text-align: right;\">\n",
       "      <th></th>\n",
       "      <th>PC1</th>\n",
       "      <th>PC2</th>\n",
       "      <th>PC3</th>\n",
       "      <th>PC4</th>\n",
       "      <th>PC5</th>\n",
       "      <th>PC6</th>\n",
       "      <th>PC7</th>\n",
       "      <th>PC8</th>\n",
       "      <th>PC9</th>\n",
       "      <th>PC10</th>\n",
       "      <th>PC11</th>\n",
       "    </tr>\n",
       "  </thead>\n",
       "  <tbody>\n",
       "    <tr>\n",
       "      <th>Population</th>\n",
       "      <td>-0.000410</td>\n",
       "      <td>-0.055172</td>\n",
       "      <td>-0.317127</td>\n",
       "      <td>-0.384422</td>\n",
       "      <td>-0.037651</td>\n",
       "      <td>0.658501</td>\n",
       "      <td>0.434816</td>\n",
       "      <td>-0.050178</td>\n",
       "      <td>-0.349257</td>\n",
       "      <td>0.000863</td>\n",
       "      <td>-0.000976</td>\n",
       "    </tr>\n",
       "    <tr>\n",
       "      <th>Children</th>\n",
       "      <td>-0.001874</td>\n",
       "      <td>0.023430</td>\n",
       "      <td>0.553580</td>\n",
       "      <td>-0.199589</td>\n",
       "      <td>0.052694</td>\n",
       "      <td>0.210905</td>\n",
       "      <td>-0.492439</td>\n",
       "      <td>0.257462</td>\n",
       "      <td>-0.544687</td>\n",
       "      <td>0.009920</td>\n",
       "      <td>-0.018410</td>\n",
       "    </tr>\n",
       "    <tr>\n",
       "      <th>Age</th>\n",
       "      <td>-0.012381</td>\n",
       "      <td>-0.047600</td>\n",
       "      <td>-0.364657</td>\n",
       "      <td>0.519582</td>\n",
       "      <td>-0.102786</td>\n",
       "      <td>0.199533</td>\n",
       "      <td>-0.439573</td>\n",
       "      <td>-0.480542</td>\n",
       "      <td>-0.323942</td>\n",
       "      <td>0.121304</td>\n",
       "      <td>0.021550</td>\n",
       "    </tr>\n",
       "    <tr>\n",
       "      <th>Income</th>\n",
       "      <td>0.006197</td>\n",
       "      <td>-0.004281</td>\n",
       "      <td>0.241758</td>\n",
       "      <td>0.178934</td>\n",
       "      <td>0.767896</td>\n",
       "      <td>0.414818</td>\n",
       "      <td>0.000105</td>\n",
       "      <td>-0.210840</td>\n",
       "      <td>0.313780</td>\n",
       "      <td>-0.069494</td>\n",
       "      <td>0.001165</td>\n",
       "    </tr>\n",
       "    <tr>\n",
       "      <th>Outage_sec_perweek</th>\n",
       "      <td>0.022599</td>\n",
       "      <td>0.706399</td>\n",
       "      <td>0.021625</td>\n",
       "      <td>-0.010069</td>\n",
       "      <td>0.014757</td>\n",
       "      <td>0.057495</td>\n",
       "      <td>0.053024</td>\n",
       "      <td>0.016099</td>\n",
       "      <td>0.052074</td>\n",
       "      <td>0.700439</td>\n",
       "      <td>0.000612</td>\n",
       "    </tr>\n",
       "    <tr>\n",
       "      <th>Email</th>\n",
       "      <td>-0.021292</td>\n",
       "      <td>0.057703</td>\n",
       "      <td>-0.335480</td>\n",
       "      <td>-0.526402</td>\n",
       "      <td>-0.057022</td>\n",
       "      <td>0.171801</td>\n",
       "      <td>-0.602346</td>\n",
       "      <td>-0.006356</td>\n",
       "      <td>0.455852</td>\n",
       "      <td>-0.055768</td>\n",
       "      <td>0.005589</td>\n",
       "    </tr>\n",
       "    <tr>\n",
       "      <th>Contacts</th>\n",
       "      <td>0.004533</td>\n",
       "      <td>-0.007842</td>\n",
       "      <td>-0.433968</td>\n",
       "      <td>0.330427</td>\n",
       "      <td>0.246842</td>\n",
       "      <td>0.091689</td>\n",
       "      <td>-0.090491</td>\n",
       "      <td>0.789002</td>\n",
       "      <td>-0.048146</td>\n",
       "      <td>0.005481</td>\n",
       "      <td>-0.002978</td>\n",
       "    </tr>\n",
       "    <tr>\n",
       "      <th>Yearly_equip_failure</th>\n",
       "      <td>0.015836</td>\n",
       "      <td>0.058207</td>\n",
       "      <td>0.302058</td>\n",
       "      <td>0.349379</td>\n",
       "      <td>-0.574507</td>\n",
       "      <td>0.515659</td>\n",
       "      <td>0.028153</td>\n",
       "      <td>0.167224</td>\n",
       "      <td>0.376851</td>\n",
       "      <td>-0.127730</td>\n",
       "      <td>-0.002464</td>\n",
       "    </tr>\n",
       "    <tr>\n",
       "      <th>Tenure</th>\n",
       "      <td>0.704915</td>\n",
       "      <td>-0.058213</td>\n",
       "      <td>-0.018176</td>\n",
       "      <td>-0.004509</td>\n",
       "      <td>-0.003199</td>\n",
       "      <td>-0.000671</td>\n",
       "      <td>-0.017972</td>\n",
       "      <td>-0.015981</td>\n",
       "      <td>0.010902</td>\n",
       "      <td>0.038116</td>\n",
       "      <td>-0.705120</td>\n",
       "    </tr>\n",
       "    <tr>\n",
       "      <th>MonthlyCharge</th>\n",
       "      <td>0.045221</td>\n",
       "      <td>0.696325</td>\n",
       "      <td>-0.092961</td>\n",
       "      <td>0.040624</td>\n",
       "      <td>0.033253</td>\n",
       "      <td>-0.053477</td>\n",
       "      <td>0.012068</td>\n",
       "      <td>-0.068953</td>\n",
       "      <td>-0.151394</td>\n",
       "      <td>-0.684597</td>\n",
       "      <td>-0.048335</td>\n",
       "    </tr>\n",
       "    <tr>\n",
       "      <th>Bandwidth_GB_Year</th>\n",
       "      <td>0.706837</td>\n",
       "      <td>-0.009361</td>\n",
       "      <td>0.002069</td>\n",
       "      <td>-0.016804</td>\n",
       "      <td>0.001747</td>\n",
       "      <td>-0.003915</td>\n",
       "      <td>-0.011493</td>\n",
       "      <td>0.004921</td>\n",
       "      <td>-0.007326</td>\n",
       "      <td>-0.012702</td>\n",
       "      <td>0.706836</td>\n",
       "    </tr>\n",
       "  </tbody>\n",
       "</table>\n",
       "</div>"
      ],
      "text/plain": [
       "                           PC1       PC2       PC3       PC4       PC5  \\\n",
       "Population           -0.000410 -0.055172 -0.317127 -0.384422 -0.037651   \n",
       "Children             -0.001874  0.023430  0.553580 -0.199589  0.052694   \n",
       "Age                  -0.012381 -0.047600 -0.364657  0.519582 -0.102786   \n",
       "Income                0.006197 -0.004281  0.241758  0.178934  0.767896   \n",
       "Outage_sec_perweek    0.022599  0.706399  0.021625 -0.010069  0.014757   \n",
       "Email                -0.021292  0.057703 -0.335480 -0.526402 -0.057022   \n",
       "Contacts              0.004533 -0.007842 -0.433968  0.330427  0.246842   \n",
       "Yearly_equip_failure  0.015836  0.058207  0.302058  0.349379 -0.574507   \n",
       "Tenure                0.704915 -0.058213 -0.018176 -0.004509 -0.003199   \n",
       "MonthlyCharge         0.045221  0.696325 -0.092961  0.040624  0.033253   \n",
       "Bandwidth_GB_Year     0.706837 -0.009361  0.002069 -0.016804  0.001747   \n",
       "\n",
       "                           PC6       PC7       PC8       PC9      PC10  \\\n",
       "Population            0.658501  0.434816 -0.050178 -0.349257  0.000863   \n",
       "Children              0.210905 -0.492439  0.257462 -0.544687  0.009920   \n",
       "Age                   0.199533 -0.439573 -0.480542 -0.323942  0.121304   \n",
       "Income                0.414818  0.000105 -0.210840  0.313780 -0.069494   \n",
       "Outage_sec_perweek    0.057495  0.053024  0.016099  0.052074  0.700439   \n",
       "Email                 0.171801 -0.602346 -0.006356  0.455852 -0.055768   \n",
       "Contacts              0.091689 -0.090491  0.789002 -0.048146  0.005481   \n",
       "Yearly_equip_failure  0.515659  0.028153  0.167224  0.376851 -0.127730   \n",
       "Tenure               -0.000671 -0.017972 -0.015981  0.010902  0.038116   \n",
       "MonthlyCharge        -0.053477  0.012068 -0.068953 -0.151394 -0.684597   \n",
       "Bandwidth_GB_Year    -0.003915 -0.011493  0.004921 -0.007326 -0.012702   \n",
       "\n",
       "                          PC11  \n",
       "Population           -0.000976  \n",
       "Children             -0.018410  \n",
       "Age                   0.021550  \n",
       "Income                0.001165  \n",
       "Outage_sec_perweek    0.000612  \n",
       "Email                 0.005589  \n",
       "Contacts             -0.002978  \n",
       "Yearly_equip_failure -0.002464  \n",
       "Tenure               -0.705120  \n",
       "MonthlyCharge        -0.048335  \n",
       "Bandwidth_GB_Year     0.706836  "
      ]
     },
     "execution_count": 28,
     "metadata": {},
     "output_type": "execute_result"
    }
   ],
   "source": [
    "# Output loadings for components\n",
    "loaded_components = pd.DataFrame(pca.components_.T,\n",
    "                       columns = ['PC1','PC2','PC3','PC4','PC5','PC6','PC7','PC8','PC9','PC10','PC11'],\n",
    "                       index = df_pca.columns)\n",
    "loaded_components"
   ]
  },
  {
   "cell_type": "markdown",
   "id": "311c88ca",
   "metadata": {},
   "source": [
    "### E3. Benefits"
   ]
  },
  {
   "cell_type": "markdown",
   "id": "17e42199",
   "metadata": {},
   "source": [
    "PCA (Principle component analysis) is the perfect method to use to engage this project. PCA allows one to remove the dimensionality (variables) from a data set. By removing the dimensionality of data, data can be more easily visualized. Although PCA does result in information loss, the data loss is usually minor. Through PCA, the interpretability of the data is increased by creating new and uncorrelated variables.\n",
    "\n",
    "As an example, the data above suggest that the tenth principle component has a large positive value between outage_sec_week and MonthlyCharge.  Understandably so, it makes intuitive sense that a company would aim to focus on both outages and monthly charges as both of these variables would have a strong relationship with both customer satisfaction and customer retention. However, there is an actionable analysis instead of intuition alone. This should be noted by the company appropriately to reduce the overall churn rate of its customer base and increase the retention period of customers."
   ]
  },
  {
   "cell_type": "markdown",
   "id": "5f935961",
   "metadata": {},
   "source": [
    "## Part H: Citations and References\n",
    "\n",
    "Pandas documentation. pandas documentation - pandas 1.4.3 documentation. (n.d.). Retrieved August 25, 2022, from https://pandas.pydata.org/docs/ \n",
    "\n"
   ]
  }
 ],
 "metadata": {
  "kernelspec": {
   "display_name": "Python 3 (ipykernel)",
   "language": "python",
   "name": "python3"
  },
  "language_info": {
   "codemirror_mode": {
    "name": "ipython",
    "version": 3
   },
   "file_extension": ".py",
   "mimetype": "text/x-python",
   "name": "python",
   "nbconvert_exporter": "python",
   "pygments_lexer": "ipython3",
   "version": "3.9.12"
  }
 },
 "nbformat": 4,
 "nbformat_minor": 5
}
